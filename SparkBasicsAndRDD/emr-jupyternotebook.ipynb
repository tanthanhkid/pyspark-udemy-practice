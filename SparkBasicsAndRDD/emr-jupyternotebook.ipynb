{
 "cells": [
  {
   "cell_type": "code",
   "execution_count": 1,
   "id": "53d41df8",
   "metadata": {
    "execution": {
     "iopub.execute_input": "2023-01-31T07:23:37.656201Z",
     "iopub.status.busy": "2023-01-31T07:23:37.655948Z",
     "iopub.status.idle": "2023-01-31T07:24:06.387300Z",
     "shell.execute_reply": "2023-01-31T07:24:06.386641Z",
     "shell.execute_reply.started": "2023-01-31T07:23:37.656174Z"
    },
    "tags": []
   },
   "outputs": [
    {
     "data": {
      "application/vnd.jupyter.widget-view+json": {
       "model_id": "f25d335300334a119bb2e84748f35cdd",
       "version_major": 2,
       "version_minor": 0
      },
      "text/plain": [
       "VBox()"
      ]
     },
     "metadata": {},
     "output_type": "display_data"
    },
    {
     "name": "stdout",
     "output_type": "stream",
     "text": [
      "Starting Spark application\n"
     ]
    },
    {
     "data": {
      "text/html": [
       "<table>\n",
       "<tr><th>ID</th><th>YARN Application ID</th><th>Kind</th><th>State</th><th>Spark UI</th><th>Driver log</th><th>User</th><th>Current session?</th></tr><tr><td>2</td><td>application_1675148691692_0003</td><td>pyspark</td><td>idle</td><td><a target=\"_blank\" href=\"http://ip-172-31-29-221.ap-southeast-1.compute.internal:20888/proxy/application_1675148691692_0003/\" class=\"emr-proxy-link\" emr-resource=\"j-19WP3HLFA8DGF\n",
       "\" application-id=\"application_1675148691692_0003\">Link</a></td><td><a target=\"_blank\" href=\"http://ip-172-31-29-221.ap-southeast-1.compute.internal:8042/node/containerlogs/container_1675148691692_0003_01_000001/livy\" >Link</a></td><td>None</td><td>✔</td></tr></table>"
      ],
      "text/plain": [
       "<IPython.core.display.HTML object>"
      ]
     },
     "metadata": {},
     "output_type": "display_data"
    },
    {
     "data": {
      "application/vnd.jupyter.widget-view+json": {
       "model_id": "",
       "version_major": 2,
       "version_minor": 0
      },
      "text/plain": [
       "FloatProgress(value=0.0, bar_style='info', description='Progress:', layout=Layout(height='25px', width='50%'),…"
      ]
     },
     "metadata": {},
     "output_type": "display_data"
    },
    {
     "name": "stdout",
     "output_type": "stream",
     "text": [
      "SparkSession available as 'spark'.\n"
     ]
    },
    {
     "data": {
      "application/vnd.jupyter.widget-view+json": {
       "model_id": "",
       "version_major": 2,
       "version_minor": 0
      },
      "text/plain": [
       "FloatProgress(value=0.0, bar_style='info', description='Progress:', layout=Layout(height='25px', width='50%'),…"
      ]
     },
     "metadata": {},
     "output_type": "display_data"
    }
   ],
   "source": [
    "from pyspark import SparkContext\n",
    "from pyspark.sql import SparkSession\n",
    "import collections\n",
    "from dataclasses import dataclass, field \n",
    "\n",
    "sc = SparkContext.getOrCreate()"
   ]
  },
  {
   "cell_type": "markdown",
   "id": "4a6be477-a10c-443d-8a6e-397ca2dfdc26",
   "metadata": {},
   "source": [
    "# RDD: mapValue and reduceByKey function"
   ]
  },
  {
   "cell_type": "code",
   "execution_count": 5,
   "id": "0ddc3c29",
   "metadata": {
    "execution": {
     "iopub.execute_input": "2023-01-31T07:18:16.126838Z",
     "iopub.status.busy": "2023-01-31T07:18:16.126594Z",
     "iopub.status.idle": "2023-01-31T07:18:16.919183Z",
     "shell.execute_reply": "2023-01-31T07:18:16.918648Z",
     "shell.execute_reply.started": "2023-01-31T07:18:16.126812Z"
    }
   },
   "outputs": [
    {
     "data": {
      "application/vnd.jupyter.widget-view+json": {
       "model_id": "e5d7a307f7e442bfbbe4463bd83f2eb8",
       "version_major": 2,
       "version_minor": 0
      },
      "text/plain": [
       "VBox()"
      ]
     },
     "metadata": {},
     "output_type": "display_data"
    },
    {
     "data": {
      "application/vnd.jupyter.widget-view+json": {
       "model_id": "",
       "version_major": 2,
       "version_minor": 0
      },
      "text/plain": [
       "FloatProgress(value=0.0, bar_style='info', description='Progress:', layout=Layout(height='25px', width='50%'),…"
      ]
     },
     "metadata": {},
     "output_type": "display_data"
    }
   ],
   "source": [
    "lines = sc.textFile(\"s3://370784835428-datalake/udemy/u.data\")"
   ]
  },
  {
   "cell_type": "code",
   "execution_count": 6,
   "id": "0913d2a4",
   "metadata": {
    "execution": {
     "iopub.execute_input": "2023-01-31T07:18:18.650013Z",
     "iopub.status.busy": "2023-01-31T07:18:18.649772Z",
     "iopub.status.idle": "2023-01-31T07:18:18.716315Z",
     "shell.execute_reply": "2023-01-31T07:18:18.715783Z",
     "shell.execute_reply.started": "2023-01-31T07:18:18.649987Z"
    }
   },
   "outputs": [
    {
     "data": {
      "application/vnd.jupyter.widget-view+json": {
       "model_id": "1a255c4c5af04fdea842baf17f70d861",
       "version_major": 2,
       "version_minor": 0
      },
      "text/plain": [
       "VBox()"
      ]
     },
     "metadata": {},
     "output_type": "display_data"
    },
    {
     "data": {
      "application/vnd.jupyter.widget-view+json": {
       "model_id": "",
       "version_major": 2,
       "version_minor": 0
      },
      "text/plain": [
       "FloatProgress(value=0.0, bar_style='info', description='Progress:', layout=Layout(height='25px', width='50%'),…"
      ]
     },
     "metadata": {},
     "output_type": "display_data"
    }
   ],
   "source": [
    "ratings = lines.map(lambda x: x.split()[2])"
   ]
  },
  {
   "cell_type": "code",
   "execution_count": 7,
   "id": "3520697b",
   "metadata": {
    "execution": {
     "iopub.execute_input": "2023-01-31T07:18:19.431670Z",
     "iopub.status.busy": "2023-01-31T07:18:19.431431Z",
     "iopub.status.idle": "2023-01-31T07:18:33.049539Z",
     "shell.execute_reply": "2023-01-31T07:18:33.048912Z",
     "shell.execute_reply.started": "2023-01-31T07:18:19.431642Z"
    }
   },
   "outputs": [
    {
     "data": {
      "application/vnd.jupyter.widget-view+json": {
       "model_id": "2826cf88bc5b4702a3710185328250ba",
       "version_major": 2,
       "version_minor": 0
      },
      "text/plain": [
       "VBox()"
      ]
     },
     "metadata": {},
     "output_type": "display_data"
    },
    {
     "data": {
      "application/vnd.jupyter.widget-view+json": {
       "model_id": "",
       "version_major": 2,
       "version_minor": 0
      },
      "text/plain": [
       "FloatProgress(value=0.0, bar_style='info', description='Progress:', layout=Layout(height='25px', width='50%'),…"
      ]
     },
     "metadata": {},
     "output_type": "display_data"
    }
   ],
   "source": [
    "result = ratings.countByValue()"
   ]
  },
  {
   "cell_type": "code",
   "execution_count": 9,
   "id": "ba9ace9f",
   "metadata": {
    "execution": {
     "iopub.execute_input": "2023-01-31T07:18:45.013460Z",
     "iopub.status.busy": "2023-01-31T07:18:45.013233Z",
     "iopub.status.idle": "2023-01-31T07:18:45.083212Z",
     "shell.execute_reply": "2023-01-31T07:18:45.082642Z",
     "shell.execute_reply.started": "2023-01-31T07:18:45.013437Z"
    },
    "tags": []
   },
   "outputs": [
    {
     "data": {
      "application/vnd.jupyter.widget-view+json": {
       "model_id": "b469dbe5ab1349e0a7c6e1f11f848a4f",
       "version_major": 2,
       "version_minor": 0
      },
      "text/plain": [
       "VBox()"
      ]
     },
     "metadata": {},
     "output_type": "display_data"
    },
    {
     "data": {
      "application/vnd.jupyter.widget-view+json": {
       "model_id": "",
       "version_major": 2,
       "version_minor": 0
      },
      "text/plain": [
       "FloatProgress(value=0.0, bar_style='info', description='Progress:', layout=Layout(height='25px', width='50%'),…"
      ]
     },
     "metadata": {},
     "output_type": "display_data"
    },
    {
     "name": "stdout",
     "output_type": "stream",
     "text": [
      "1 6110\n",
      "2 11370\n",
      "3 27145\n",
      "4 34174\n",
      "5 21201"
     ]
    }
   ],
   "source": [
    "sortedResults = collections.OrderedDict(sorted(result.items()))\n",
    "for key, value in sortedResults.items():\n",
    "    print(\"%s %i\" % (key, value))"
   ]
  },
  {
   "cell_type": "code",
   "execution_count": 13,
   "id": "832c9de6-0e78-43a2-b347-645cc529d7d8",
   "metadata": {
    "execution": {
     "iopub.execute_input": "2023-01-31T07:21:56.566412Z",
     "iopub.status.busy": "2023-01-31T07:21:56.566162Z",
     "iopub.status.idle": "2023-01-31T07:22:07.980369Z",
     "shell.execute_reply": "2023-01-31T07:22:07.979636Z",
     "shell.execute_reply.started": "2023-01-31T07:21:56.566387Z"
    }
   },
   "outputs": [
    {
     "data": {
      "application/vnd.jupyter.widget-view+json": {
       "model_id": "2beb4cd6596b4ff0b14ac204146d3bd9",
       "version_major": 2,
       "version_minor": 0
      },
      "text/plain": [
       "VBox()"
      ]
     },
     "metadata": {},
     "output_type": "display_data"
    },
    {
     "data": {
      "application/vnd.jupyter.widget-view+json": {
       "model_id": "",
       "version_major": 2,
       "version_minor": 0
      },
      "text/plain": [
       "FloatProgress(value=0.0, bar_style='info', description='Progress:', layout=Layout(height='25px', width='50%'),…"
      ]
     },
     "metadata": {},
     "output_type": "display_data"
    },
    {
     "name": "stdout",
     "output_type": "stream",
     "text": [
      "(26, 242.05882352941177)\n",
      "(40, 250.8235294117647)\n",
      "(68, 269.6)\n",
      "(54, 278.0769230769231)\n",
      "(38, 193.53333333333333)\n",
      "(56, 306.6666666666667)\n",
      "(36, 246.6)\n",
      "(22, 206.42857142857142)\n",
      "(60, 202.71428571428572)\n",
      "(30, 235.8181818181818)\n",
      "(42, 303.5)\n",
      "(48, 281.4)\n",
      "(50, 254.6)\n",
      "(32, 207.9090909090909)\n",
      "(58, 116.54545454545455)\n",
      "(64, 281.3333333333333)\n",
      "(52, 340.6363636363636)\n",
      "(24, 233.8)\n",
      "(20, 165.0)\n",
      "(62, 220.76923076923077)\n",
      "(44, 282.1666666666667)\n",
      "(28, 209.1)\n",
      "(66, 276.44444444444446)\n",
      "(46, 223.69230769230768)\n",
      "(18, 343.375)\n",
      "(34, 245.5)\n",
      "(33, 325.3333333333333)\n",
      "(55, 295.53846153846155)\n",
      "(59, 220.0)\n",
      "(37, 249.33333333333334)\n",
      "(27, 228.125)\n",
      "(53, 222.85714285714286)\n",
      "(57, 258.8333333333333)\n",
      "(43, 230.57142857142858)\n",
      "(35, 211.625)\n",
      "(45, 309.53846153846155)\n",
      "(67, 214.625)\n",
      "(19, 213.27272727272728)\n",
      "(51, 302.14285714285717)\n",
      "(25, 197.45454545454547)\n",
      "(21, 350.875)\n",
      "(49, 184.66666666666666)\n",
      "(39, 169.28571428571428)\n",
      "(31, 267.25)\n",
      "(41, 268.55555555555554)\n",
      "(69, 235.2)\n",
      "(65, 298.2)\n",
      "(61, 256.22222222222223)\n",
      "(29, 215.91666666666666)\n",
      "(47, 233.22222222222223)\n",
      "(63, 384.0)\n",
      "(23, 246.3)"
     ]
    }
   ],
   "source": [
    "def parseLine(line):\n",
    "    fields = line.split(',')\n",
    "    age = int(fields[2])\n",
    "    numFriends = int(fields[3])\n",
    "    return (age, numFriends)\n",
    "\n",
    "lines = sc.textFile(\"s3://370784835428-datalake/udemy/SparkCourse/SparkCourse/fakefriends.csv\")\n",
    "rdd = lines.map(parseLine) \n",
    "\n",
    "totalsByAge = rdd.mapValues(lambda x:(x, 1)).reduceByKey(lambda x,y: (x[0]+y[0],x[1]+y[1])) \n",
    "\n",
    "totalsByAgeCollected = totalsByAge.collect() \n",
    "\n",
    "averagesByAge = totalsByAge.mapValues(lambda x:x[0]/x[1]) \n",
    "\n",
    "results = averagesByAge.collect()\n",
    "  \n",
    "for result in results:\n",
    "   print(result)"
   ]
  },
  {
   "cell_type": "markdown",
   "id": "d2c14ec0-3d06-448e-94df-d837ceae1c83",
   "metadata": {},
   "source": []
  },
  {
   "cell_type": "markdown",
   "id": "0e769dcf-c481-4986-aaa6-da75efcb2f4f",
   "metadata": {},
   "source": [
    "# RDD: filter function"
   ]
  },
  {
   "cell_type": "markdown",
   "id": "8bbc7da2-e839-4629-bcb6-14921ccc3359",
   "metadata": {},
   "source": [
    "def parseLine(line):\n",
    "    fields = line.split(',')\n",
    "    stationID = fields[0]\n",
    "    entryType = fields[2]\n",
    "    temperature = float(fields[3]) * 0.1 * (9.0 / 5.0) + 32.0\n",
    "    return (stationID, entryType, temperature)\n",
    "\n",
    "lines = sc.textFile(\"s3://thanhtt-0000-datalake/udemy/SparkCourse/1800.csv\")\n",
    "parsedLines = lines.map(parseLine)\n",
    "minTemps = parsedLines.filter(lambda x: \"TMIN\" in x[1])\n",
    "stationTemps = minTemps.map(lambda x: (x[0], x[2]))\n",
    "minTemps = stationTemps.reduceByKey(lambda x, y: min(x,y))\n",
    "results = minTemps.collect();\n",
    "\n",
    "for result in results:\n",
    "    print(result[0] + \"\\t{:.2f}F\".format(result[1]))\n"
   ]
  },
  {
   "cell_type": "markdown",
   "id": "809d32c5-4c97-42e0-88ee-923d7fc40253",
   "metadata": {},
   "source": [
    "# RDD: flatMap function"
   ]
  },
  {
   "cell_type": "markdown",
   "id": "ab7f3664-4b90-405f-817a-29e3cc3a9816",
   "metadata": {},
   "source": [
    "import re\n",
    "\n",
    "def normalizeWords(text):\n",
    "    return re.compile(r'\\W+',re.UNICODE).split(text.lower())\n",
    "\n",
    "input = sc.textFile(\"s3://thanhtt-0000-datalake/udemy/SparkCourse/book.txt\")\n",
    "words = input.flatMap(normalizeWords) # the text split into many rows\n",
    "\n",
    "wordCounts = words.map(lambda x: (x,1)).reduceByKey(lambda x,y: x+y)\n",
    "wordCountsSorted = wordCounts.map(lambda x: (x[0],x[1])).map(lambda x:(x[1],x[0]) ).sortByKey()\n",
    "# for item in wordCountsSorted.collect():# comment because the list is too long\n",
    "    # print(item)\n",
    "print(\"Result is commented because it's too long\")\n",
    "results = wordCountsSorted.collect()\n",
    "\n",
    "# for result in results:\n",
    "#     count = str(result[0]) \n",
    "#     word = result[1].encode(\"ascii\",\"ignore\")\n",
    "    \n",
    "#     # comment because the list is too long\n",
    "#     if(word):\n",
    "#         print(cleanWord,count)\n"
   ]
  },
  {
   "cell_type": "markdown",
   "id": "5de8b99a-ee39-441b-aa6c-5bdc11f10fde",
   "metadata": {},
   "source": [
    "# **DataFrame: Spark SQL**"
   ]
  },
  {
   "cell_type": "markdown",
   "id": "3c6754ca-aadc-4609-906b-0fb52e2c5363",
   "metadata": {},
   "source": [
    "from pyspark.sql import Row\n",
    "\n",
    "def mapper(line):\n",
    "    fields = line.split(',')\n",
    "    return Row(ID = int(fields[0]), name = str(fields[1].encode(\"utf-8\")),\n",
    "               age = int(fields[2]), numFriends = int(fields[3]))\n",
    "\n",
    "lines = sc.textFile(\"s3://thanhtt-0000-datalake/udemy/SparkCourse/fakefriends.csv\")\n",
    "people = lines.map(mapper)\n",
    "\n",
    "# Infer the schema, and register the DataFrame as table.\n",
    "schemaPeople = spark.createDataFrame(people).cache()\n",
    "schemaPeople.createOrReplaceTempView(\"people\")\n",
    "\n",
    "# SQL can be run over DataFrames that have been register as a table\n",
    "teenagers = spark.sql(\"SELECT * FROM people WHERE age >=13 and age <=19\")\n",
    "\n",
    "# The results of SQL queries are RDDs and support all the normal RDD operations\n",
    "for teen in teenagers.collect():\n",
    "    print(teen)\n",
    "    \n",
    "# We can also use functions instead of SQL queries\n",
    "schemaPeople.groupBy(\"age\").count().orderBy(\"age\").show()\n"
   ]
  },
  {
   "cell_type": "markdown",
   "id": "b91d043a-5044-4ff1-8bff-43670bb03a2c",
   "metadata": {},
   "source": [
    "# **DataFrame: Infer Schema and common function to work with**"
   ]
  },
  {
   "cell_type": "markdown",
   "id": "7850b84d-20e1-4f59-adab-70ed8e111243",
   "metadata": {},
   "source": [
    "from pyspark.sql import functions as func\n",
    "\n",
    "people = spark.read.option(\"header\",\"true\").option(\"inferSchema\",\"true\")\\\n",
    "            .csv(\"s3://thanhtt-0000-datalake/udemy/SparkCourse/fakefriends-header.csv\")\n",
    "\n",
    "print(\"here is our inferred schema\")\n",
    "people.printSchema()\n",
    "\n",
    "print(\"display the name column\")\n",
    "people.select(\"name\").show()\n",
    "\n",
    "print(\"filter out anyone over 21\")\n",
    "people.filter(people.age < 21).show()\n",
    "\n",
    "print(\"group by age\")\n",
    "people.groupBy(\"age\").count().show()\n",
    "\n",
    "print(\"make everyone 10 year older\")\n",
    "people.select(people.name, people.age +10).show()\n",
    "\n",
    "print(\"sorted\")\n",
    "friendByAge = people.select(\"age\",\"friends\")\n",
    "friendByAge.groupBy(\"age\").avg(\"friends\").sort(\"age\").show()\n",
    "\n",
    "print(\"formatted more nicely\")\n",
    "friendByAge.groupBy(\"age\").agg(func.round(func.avg(\"friends\"),2)).sort(\"age\").show()\n",
    "\n",
    "print(\"with a custom column name\")\n",
    "friendByAge.groupBy(\"age\").agg(func.round(func.avg(\"friends\"),2).alias(\"friends_avg\")).sort(\"age\").show()\n"
   ]
  },
  {
   "cell_type": "markdown",
   "id": "a611ee7b-3000-4923-9246-7baaf204104e",
   "metadata": {},
   "source": [
    "# **Word count with DataFrame(split unstructure text into multi row dataframe)**"
   ]
  },
  {
   "cell_type": "markdown",
   "id": "6c2c1df2-0b7e-4866-a932-0b4e31e60771",
   "metadata": {},
   "source": [
    "# read each line of my book into a dataframe\n",
    "inputDF = spark.read.text(\"s3://thanhtt-0000-datalake/udemy/SparkCourse/book.txt\")\n",
    "inputDF.show()\n",
    "\n",
    "# split using a regular expression that extract words\n",
    "words = inputDF.select(func.explode(func.split(inputDF.value,\"\\\\W+\")).alias(\"word\"))\n",
    "words.filter(words.word != \"\")\n",
    "\n",
    "words.show()"
   ]
  },
  {
   "cell_type": "markdown",
   "id": "b57f4395-4d49-497e-ac2b-18422e12711e",
   "metadata": {},
   "source": [
    "# **DataFrame: StructType, StructField, IntegerType, FloatType**"
   ]
  },
  {
   "cell_type": "code",
   "execution_count": 4,
   "id": "7d8577ce-cb9f-439b-8cad-a29c766a89a2",
   "metadata": {
    "execution": {
     "iopub.execute_input": "2023-01-31T08:10:52.040956Z",
     "iopub.status.busy": "2023-01-31T08:10:52.040728Z",
     "iopub.status.idle": "2023-01-31T08:11:09.451496Z",
     "shell.execute_reply": "2023-01-31T08:11:09.450780Z",
     "shell.execute_reply.started": "2023-01-31T08:10:52.040932Z"
    },
    "tags": []
   },
   "outputs": [
    {
     "data": {
      "application/vnd.jupyter.widget-view+json": {
       "model_id": "c36c69f2db2f4253bc76f33a9018e5ac",
       "version_major": 2,
       "version_minor": 0
      },
      "text/plain": [
       "VBox()"
      ]
     },
     "metadata": {},
     "output_type": "display_data"
    },
    {
     "data": {
      "application/vnd.jupyter.widget-view+json": {
       "model_id": "",
       "version_major": 2,
       "version_minor": 0
      },
      "text/plain": [
       "FloatProgress(value=0.0, bar_style='info', description='Progress:', layout=Layout(height='25px', width='50%'),…"
      ]
     },
     "metadata": {},
     "output_type": "display_data"
    },
    {
     "name": "stdout",
     "output_type": "stream",
     "text": [
      "+-------+-----------+\n",
      "|cust_id|total_spent|\n",
      "+-------+-----------+\n",
      "|     65|    5140.35|\n",
      "|     81|    5112.71|\n",
      "|     76|    4904.21|\n",
      "|     12|    4664.59|\n",
      "|      1|     4958.6|\n",
      "|      6|    5397.88|\n",
      "|      3|    4659.63|\n",
      "|     92|    5379.28|\n",
      "|     64|    5288.69|\n",
      "|     37|     4735.2|\n",
      "|     61|    5497.48|\n",
      "|     35|    5155.42|\n",
      "|      4|    4815.05|\n",
      "|      8|    5517.24|\n",
      "|     87|     5206.4|\n",
      "|     60|    5040.71|\n",
      "|     90|    5290.41|\n",
      "|     11|    5152.29|\n",
      "|     33|    5254.66|\n",
      "|     83|     4635.8|\n",
      "|     99|    4172.29|\n",
      "|     66|    4681.92|\n",
      "|     74|    4647.13|\n",
      "|     36|    4278.05|\n",
      "|     31|    4765.05|\n",
      "|     85|    5503.43|\n",
      "|     53|     4945.3|\n",
      "|     34|     5330.8|\n",
      "|     44|    4756.89|\n",
      "|     91|    4642.26|\n",
      "|     93|    5265.75|\n",
      "|     94|    4475.57|\n",
      "|     57|     4628.4|\n",
      "|     54|    6065.39|\n",
      "|     19|    5059.43|\n",
      "|     55|    5298.09|\n",
      "|     59|    5642.89|\n",
      "|     23|    4042.65|\n",
      "|     51|    4975.22|\n",
      "|     82|    4812.49|\n",
      "|     70|    5368.25|\n",
      "|     95|    4876.84|\n",
      "|     21|    4707.41|\n",
      "|     98|    4297.26|\n",
      "|     56|    4701.02|\n",
      "|     58|    5437.73|\n",
      "|     14|    4735.03|\n",
      "|     30|    4990.72|\n",
      "|     47|     4316.3|\n",
      "|     52|    5245.06|\n",
      "|     16|    4979.06|\n",
      "|     20|    4836.86|\n",
      "|     48|    4384.33|\n",
      "|      5|    4561.07|\n",
      "|     15|    5413.51|\n",
      "|     43|    5368.83|\n",
      "|     88|    4830.55|\n",
      "|     50|    4517.27|\n",
      "|     38|    4898.46|\n",
      "|     80|    4727.86|\n",
      "|     25|    5057.61|\n",
      "|     24|    5259.92|\n",
      "|     75|     4178.5|\n",
      "|     68|    6375.45|\n",
      "|      2|    5994.59|\n",
      "|     79|    3790.57|\n",
      "|     18|    4921.27|\n",
      "|     89|    4851.48|\n",
      "|     78|    4524.51|\n",
      "|     28|    5000.71|\n",
      "|     27|    4915.89|\n",
      "|     13|    4367.62|\n",
      "|     86|    4908.81|\n",
      "|     40|    5186.43|\n",
      "|     96|    3924.23|\n",
      "|     17|    5032.68|\n",
      "|     72|    5337.44|\n",
      "|     39|    6193.11|\n",
      "|      7|    4755.07|\n",
      "|     63|    5415.15|\n",
      "|     45|    3309.38|\n",
      "|     29|    5032.53|\n",
      "|     71|    5995.66|\n",
      "|     42|    5696.84|\n",
      "|     46|    5963.11|\n",
      "|      0|    5524.95|\n",
      "|     26|     5250.4|\n",
      "|     22|    5019.45|\n",
      "|     41|    5637.62|\n",
      "|      9|    5322.65|\n",
      "|     49|     4394.6|\n",
      "|     84|    4652.94|\n",
      "|     69|    5123.01|\n",
      "|     97|    5977.19|\n",
      "|     10|     4819.7|\n",
      "|     77|    4327.73|\n",
      "|     73|     6206.2|\n",
      "|     62|    5253.32|\n",
      "|     32|    5496.05|\n",
      "|     67|    4505.79|\n",
      "+-------+-----------+"
     ]
    }
   ],
   "source": [
    "from pyspark.sql import functions as func\n",
    "from pyspark.sql.types import StructType, StructField, IntegerType, FloatType\n",
    "\n",
    "#create schema when reading customer order\n",
    "customerOrderSchema = StructType([\\\n",
    "                                 StructField(\"cust_id\", IntegerType(), True),\n",
    "                                 StructField(\"item_id\", IntegerType(), True),\n",
    "                                 StructField(\"amount_spent\", FloatType(), True)\n",
    "                                 ])\n",
    "\n",
    "#load up the data into spark dataset\n",
    "customerDF = spark.read.schema(customerOrderSchema).csv(\"s3://370784835428-datalake/udemy/SparkCourse/SparkCourse/customer-orders.csv\")\n",
    "\n",
    "totalByCustomer = customerDF.groupBy(\"cust_id\").agg(func.round(func.sum(\"amount_spent\"),2).alias(\"total_spent\"))\n",
    "\n",
    "totalByCustomerSorted = totalByCustomer.sort(\"total_spent\")\n",
    "\n",
    "totalByCustomer.show(totalByCustomerSorted.count())"
   ]
  },
  {
   "cell_type": "code",
   "execution_count": null,
   "id": "d2c37c81-325a-4427-9466-53d1ab6f5536",
   "metadata": {},
   "outputs": [],
   "source": []
  }
 ],
 "metadata": {
  "kernelspec": {
   "display_name": "PySpark",
   "language": "python",
   "name": "pysparkkernel"
  },
  "language_info": {
   "codemirror_mode": {
    "name": "python",
    "version": 3
   },
   "file_extension": ".py",
   "mimetype": "text/x-python",
   "name": "pyspark",
   "pygments_lexer": "python3"
  }
 },
 "nbformat": 4,
 "nbformat_minor": 5
}
