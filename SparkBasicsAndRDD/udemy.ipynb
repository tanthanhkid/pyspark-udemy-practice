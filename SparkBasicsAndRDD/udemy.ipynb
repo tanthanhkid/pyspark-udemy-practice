{
	"metadata": {
		"kernelspec": {
			"name": "glue_pyspark",
			"display_name": "Glue PySpark",
			"language": "python"
		},
		"language_info": {
			"name": "Python_Glue_Session",
			"mimetype": "text/x-python",
			"codemirror_mode": {
				"name": "python",
				"version": 3
			},
			"pygments_lexer": "python3",
			"file_extension": ".py"
		}
	},
	"nbformat_minor": 5,
	"nbformat": 4,
	"cells": [
		{
			"cell_type": "code",
			"source": "from pyspark import SparkConf, SparkContext\nimport collections\nfrom dataclasses import dataclass, field\n\n\nconf = SparkConf().setMaster(\"local\").setAppName(\"RatingHistogram\")\nsc = SparkContext.getOrCreate(conf=conf)",
			"metadata": {
				"trusted": true
			},
			"execution_count": 1,
			"outputs": [
				{
					"name": "stdout",
					"text": "Welcome to the Glue Interactive Sessions Kernel\nFor more information on available magic commands, please type %help in any new cell.\n\nPlease view our Getting Started page to access the most up-to-date information on the Interactive Sessions kernel: https://docs.aws.amazon.com/glue/latest/dg/interactive-sessions.html\nInstalled kernel version: 0.37.0 \nAuthenticating with environment variables and user-defined glue_role_arn: arn:aws:iam::441656060858:role/AWSGlueServiceRole-thanhtt-datalake\nTrying to create a Glue session for the kernel.\nWorker Type: G.1X\nNumber of Workers: 5\nSession ID: 4e75aede-9d55-467b-a91a-9cfcdc8eb423\nJob Type: glueetl\nApplying the following default arguments:\n--glue_kernel_version 0.37.0\n--enable-glue-datacatalog true\nWaiting for session 4e75aede-9d55-467b-a91a-9cfcdc8eb423 to get into ready status...\nSession 4e75aede-9d55-467b-a91a-9cfcdc8eb423 has been created.\n\n",
					"output_type": "stream"
				}
			],
			"id": "53d41df8"
		},
		{
			"cell_type": "code",
			"source": "lines = sc.textFile(\"s3://thanhtt-0000-datalake/udemy/ml-100k/u.data\")",
			"metadata": {
				"trusted": true
			},
			"execution_count": 2,
			"outputs": [
				{
					"name": "stdout",
					"text": "\n",
					"output_type": "stream"
				}
			],
			"id": "0ddc3c29"
		},
		{
			"cell_type": "code",
			"source": "ratings = lines.map(lambda x: x.split()[2])",
			"metadata": {
				"trusted": true
			},
			"execution_count": 3,
			"outputs": [
				{
					"name": "stdout",
					"text": "\n",
					"output_type": "stream"
				}
			],
			"id": "0913d2a4"
		},
		{
			"cell_type": "code",
			"source": "result = ratings.countByValue()",
			"metadata": {
				"trusted": true
			},
			"execution_count": 4,
			"outputs": [
				{
					"name": "stdout",
					"text": "\n",
					"output_type": "stream"
				}
			],
			"id": "3520697b"
		},
		{
			"cell_type": "code",
			"source": "sortedResults = collections.OrderedDict(sorted(result.items()))\nfor key, value in sortedResults.items():\n    print(\"%s %i\" % (key, value))",
			"metadata": {
				"trusted": true
			},
			"execution_count": 5,
			"outputs": [
				{
					"name": "stdout",
					"text": "1 6110\n2 11370\n3 27145\n4 34174\n5 21201\n",
					"output_type": "stream"
				}
			],
			"id": "ba9ace9f"
		},
		{
			"cell_type": "code",
			"source": "def parseLine(line):\n    fields = line.split(',')\n    age = int(fields[2])\n    numFriends = int(fields[3])\n    return (age, numFriends)\n\nlines = sc.textFile(\"s3://thanhtt-0000-datalake/udemy/SparkCourse/fakefriends.csv\")\nrdd = lines.map(parseLine) \n\ntotalsByAge = rdd.mapValues(lambda x:(x, 1)).reduceByKey(lambda x,y: (x[0]+y[0],x[1]+y[1])) \n\ntotalsByAgeCollected = totalsByAge.collect()\n\nfor result in totalsByAgeCollected:\n   print(result) ",
			"metadata": {
				"trusted": true
			},
			"execution_count": 18,
			"outputs": [
				{
					"name": "stdout",
					"text": "(40, (4264, 17))\n(41, (2417, 9))\n(42, (1821, 6))\n(43, (1614, 7))\n(44, (3386, 12))\n(45, (4024, 13))\n(46, (2908, 13))\n(47, (2099, 9))\n(48, (2814, 10))\n(49, (1108, 6))\n(50, (1273, 5))\n(51, (2115, 7))\n(52, (3747, 11))\n(53, (1560, 7))\n(54, (3615, 13))\n(55, (3842, 13))\n(56, (1840, 6))\n(57, (3106, 12))\n(58, (1282, 11))\n(18, (2747, 8))\n(59, (1980, 9))\n(19, (2346, 11))\n(60, (1419, 7))\n(20, (825, 5))\n(21, (2807, 8))\n(61, (2306, 9))\n(62, (2870, 13))\n(22, (1445, 7))\n(23, (2463, 10))\n(63, (1536, 4))\n(64, (3376, 12))\n(24, (1169, 5))\n(25, (2172, 11))\n(65, (1491, 5))\n(66, (2488, 9))\n(26, (4115, 17))\n(67, (3434, 16))\n(27, (1825, 8))\n(68, (2696, 10))\n(28, (2091, 10))\n(69, (2352, 10))\n(29, (2591, 12))\n(30, (2594, 11))\n(31, (2138, 8))\n(32, (2287, 11))\n(33, (3904, 12))\n(34, (1473, 6))\n(35, (1693, 8))\n(36, (2466, 10))\n(37, (2244, 9))\n(38, (2903, 15))\n(39, (1185, 7))\n",
					"output_type": "stream"
				}
			],
			"id": "a2158971"
		},
		{
			"cell_type": "code",
			"source": "averagesByAge = totalsByAge.mapValues(lambda x:x[0]/x[1]) \n\nresults = averagesByAge.collect()\n \n\nfor result in results:\n   print(result)",
			"metadata": {
				"trusted": true
			},
			"execution_count": 19,
			"outputs": [
				{
					"name": "stdout",
					"text": "(40, 250.8235294117647)\n(41, 268.55555555555554)\n(42, 303.5)\n(43, 230.57142857142858)\n(44, 282.1666666666667)\n(45, 309.53846153846155)\n(46, 223.69230769230768)\n(47, 233.22222222222223)\n(48, 281.4)\n(49, 184.66666666666666)\n(50, 254.6)\n(51, 302.14285714285717)\n(52, 340.6363636363636)\n(53, 222.85714285714286)\n(54, 278.0769230769231)\n(55, 295.53846153846155)\n(56, 306.6666666666667)\n(57, 258.8333333333333)\n(58, 116.54545454545455)\n(18, 343.375)\n(19, 213.27272727272728)\n(59, 220.0)\n(60, 202.71428571428572)\n(20, 165.0)\n(21, 350.875)\n(61, 256.22222222222223)\n(22, 206.42857142857142)\n(62, 220.76923076923077)\n(63, 384.0)\n(23, 246.3)\n(64, 281.3333333333333)\n(24, 233.8)\n(25, 197.45454545454547)\n(65, 298.2)\n(66, 276.44444444444446)\n(26, 242.05882352941177)\n(67, 214.625)\n(27, 228.125)\n(68, 269.6)\n(28, 209.1)\n(29, 215.91666666666666)\n(69, 235.2)\n(30, 235.8181818181818)\n(31, 267.25)\n(32, 207.9090909090909)\n(33, 325.3333333333333)\n(34, 245.5)\n(35, 211.625)\n(36, 246.6)\n(37, 249.33333333333334)\n(38, 193.53333333333333)\n(39, 169.28571428571428)\n",
					"output_type": "stream"
				}
			],
			"id": "e2d8953a-12c8-4101-a267-ae321bc62cdb"
		},
		{
			"cell_type": "code",
			"source": "",
			"metadata": {},
			"execution_count": null,
			"outputs": [],
			"id": "b3e016de-5e1f-4169-8848-48c3611ee664"
		}
	]
}